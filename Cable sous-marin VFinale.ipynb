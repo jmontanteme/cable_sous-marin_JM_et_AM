{
 "cells": [
  {
   "cell_type": "markdown",
   "metadata": {},
   "source": [
    "# Projet numérique Câble sous-marin\n",
    "## Juliette Montantème et Alex Morais Penso"
   ]
  },
  {
   "cell_type": "markdown",
   "metadata": {},
   "source": [
    "## Questions théoriques"
   ]
  },
  {
   "cell_type": "markdown",
   "metadata": {},
   "source": [
    "### Question 1\n",
    "\n",
    "La méthode de Monte Carlo, permet, à l'aide de la loi forte des grands nombres, d'estimer l'espérance conditionnelle par la moyenne empirique de simulations conditionnelles.\n",
    "\n"
   ]
  },
  {
   "cell_type": "markdown",
   "metadata": {},
   "source": [
    "### Question 2 \n",
    "\n",
    "On considère le vecteur $ Z = \\begin{pmatrix} Z(x_0)\\\\Z(x_1)\\\\...\\\\Z(x_N) \\end{pmatrix}$ correspondant aux points de discrétisation et le vecteur $ Z' = \\begin{pmatrix} Z(x_{j_1})\\\\...\\\\Z(x_{j_n}) \\end{pmatrix}$ correspondant aux  points d'observations. Si certains des indices des composantes observées sont dans ceux de discrétisation, on ote les points correspondants pour obtenir un nouveau vecteur Z. \n",
    "On cherche ainsi la loi de la variable aléatoire $Z$ | $Z'=z'$ où $z' = \\begin{pmatrix} z(x_{j_1})& z(x_{j_2})&...&z(x_{j_n})\\end{pmatrix}$ ."
   ]
  },
  {
   "cell_type": "markdown",
   "metadata": {},
   "source": [
    "Or, en reprenant les calculs et preuves réalisés dans la section *Vecteur gaussiens à densité* du chapitre **Probabilités IV**, on peut affirmer que cette variable suit une loi gaussienne. "
   ]
  },
  {
   "cell_type": "markdown",
   "metadata": {},
   "source": [
    "Introduisons certaines quantités nécessaires pour l'expression de son espérance et de sa variance.\n",
    "\n",
    "Soient $C_Z$ et $C_{Z'}$ les matrices de covariance de respectivement les vecteurs Z et Z'. \n",
    "Soit $C_{ZZ'}$ et $C_{Z'Z}$ (la première étant la transposée de la seconde) les matrices de covariance entre les variables $Z$ et $Z'$.\n",
    "\n",
    "\n",
    "Soit $CS_z$ la matrice définie par $CS_z = C_Z - C_{ZZ'} C_{Z'}^{-1} C_{Z'Z}$.\n",
    "\n",
    "On considèrera indifféremment $\\mu$ et le vecteur ${\\mu} = \\begin{pmatrix} \\mu & \\mu &...&\\mu \\end{pmatrix}$ qui désigne l'espérance du vecteur $Z$.\n",
    "\n",
    "Ainsi on introduit la fonction $\\psi$ par $\\psi(z') = \\mu +C_{ZZ'} C_{Z'}^{-1} (z' - \\mu)$."
   ]
  },
  {
   "cell_type": "markdown",
   "metadata": {},
   "source": [
    "On a donc \n",
    "$\\mathbb{E} (Z | Z'=z') = \\psi(z') $\n",
    "\n",
    "\n",
    "et\n",
    "\n",
    "\n",
    "$ \\mathbb{V}(Z | Z'=z') = CS_Z$"
   ]
  },
  {
   "cell_type": "markdown",
   "metadata": {},
   "source": [
    "### Question 3"
   ]
  },
  {
   "cell_type": "markdown",
   "metadata": {},
   "source": [
    "Soit $Y$ un tel vecteur gaussien. Son espérance est le vecteur nul, et étant donné l'indépendance des composantes et leur variance égale à 1, sa matrice de covariance n'est autre que la matrice identité.\n",
    "\n",
    "$\\mathbb{E}(Y) = \\begin{pmatrix} 0 & 0 &...& 0 \\end{pmatrix}$ \n",
    "et $ \\mathbb{V}(Y) = Id_p$"
   ]
  },
  {
   "cell_type": "markdown",
   "metadata": {},
   "source": [
    "Soit $ Z = m + RY$.\n",
    "\n",
    "La variable $Z$ est une gaussienne donc les paramètres sont calculés ci-après. \n",
    "\n",
    "$\\mathbb{E}(Z) = m$ par linéarité de l'espérance.\n",
    "\n",
    "$\\begin{align*} \\mathbb{V}(Z) & = \\mathbb{E}( (Z - \\mathbb{E}(Z)) (Z- \\mathbb{E}(Z))^t )\\\\\n",
    "                              & = \\mathbb{E}( RY R^t Y^t)\\\\\n",
    "                              & = R \\mathbb{E}(Y Y^t) R^t\\\\\n",
    "                              & = R \\mathbb{V}(Y) R^t\\\\\n",
    "                              & = R R^t\\\\\n",
    "                              \\end{align*}$\n",
    "                       "
   ]
  },
  {
   "cell_type": "markdown",
   "metadata": {},
   "source": [
    "### Question 4"
   ]
  },
  {
   "cell_type": "markdown",
   "metadata": {},
   "source": [
    "On cherche à simuler un vecteur gaussien dont le vecteur espérance serait ${\\mu} = \\begin{pmatrix} \\mu & \\mu &...&\\mu \\end{pmatrix}$  et la covariance une matrice $C$, définie positive. Or, on peut montrer que $C$ peut se factoriser et s'écrire de la forme $C = R R^t$. "
   ]
  },
  {
   "cell_type": "markdown",
   "metadata": {},
   "source": [
    "Pour simuler ce vecteur gaussien on pourrait donc appliquer le résultat obtenu à la question précédente en choisissant $m = \\mu$ et $R$ selon la décomposition. En partant de simulation de variables gaussiennes centrées réduites indépendantes, on simule un vecteur gaussien puis on lui fait subir une transformation affine pour qu'il devienne un vecteur gaussien aux caractéristiques souhaitées. "
   ]
  },
  {
   "cell_type": "markdown",
   "metadata": {},
   "source": [
    "## Implémentation"
   ]
  },
  {
   "cell_type": "markdown",
   "metadata": {},
   "source": [
    "Commençons par introduire les données du problème.\n",
    "\n"
   ]
  },
  {
   "cell_type": "code",
   "execution_count": 1,
   "metadata": {},
   "outputs": [],
   "source": [
    "import numpy as np\n",
    "import matplotlib.pyplot as plt\n",
    "import math\n",
    "import numpy.linalg as alg"
   ]
  },
  {
   "cell_type": "code",
   "execution_count": 2,
   "metadata": {},
   "outputs": [],
   "source": [
    "#Chargement de dépendances\n",
    "import numpy as np\n",
    "import matplotlib.pyplot as plt\n",
    "import math\n",
    "import numpy.linalg as alg\n",
    "import numpy.random as random\n",
    "from scipy.linalg import cholesky\n",
    "\n",
    "#Discrétisation\n",
    "A=0\n",
    "B=500\n",
    "N=101 #Nombre de points de discrétisation \n",
    "Delta = (B-A)/(N-1)\n",
    "discretization_indexes = np.arange(N) \n",
    "discretization = discretization_indexes*Delta \n",
    "\n",
    "#Paramètres du modèle\n",
    "mu=-5\n",
    "a = 50 \n",
    "sigma2 = 12\n",
    "\n",
    "#Données\n",
    "observation_indexes = [0,20,40,60,80,100] \n",
    "depth = np.array([0,-4,-12.8,-1,-6.5,0])\n",
    "observation = np.array(observation_indexes) * Delta\n",
    "#Indices des composantes correspondant aux observations et aux componsantes non observées\n",
    "\n",
    "unknown_indexes=list(set(discretization_indexes)-set(observation_indexes))\n",
    "unknown = np.array(unknown_indexes)*Delta"
   ]
  },
  {
   "cell_type": "markdown",
   "metadata": {},
   "source": [
    "### Question 1 "
   ]
  },
  {
   "cell_type": "markdown",
   "metadata": {},
   "source": [
    "On implémente d'abord une fonction qui calcule la covariance à partir de réels puis on l'applique à une matrice de distances, afin de renvoyer la matrice de covariance."
   ]
  },
  {
   "cell_type": "code",
   "execution_count": 3,
   "metadata": {},
   "outputs": [],
   "source": [
    "\n",
    "def calc_covariance(dist, a, sigma2):\n",
    "    return sigma2 * math.exp(- dist / a)\n",
    "\n",
    "def covariance(mat_dist, a, sigma2):\n",
    "    n, p = np.array(mat_dist).shape\n",
    "    mat_cov = np.zeros((n, p))\n",
    "    for i in range(n):\n",
    "        for j in range(p):\n",
    "            dist = mat_dist[i, j]\n",
    "            cov = calc_covariance(dist, a, sigma2)\n",
    "            mat_cov[i, j] = cov\n",
    "    return mat_cov"
   ]
  },
  {
   "cell_type": "markdown",
   "metadata": {},
   "source": [
    "### Question 2"
   ]
  },
  {
   "cell_type": "markdown",
   "metadata": {},
   "source": [
    "On calcule ici la matrice de distance étant donné deux vecteurs x et x2.\n"
   ]
  },
  {
   "cell_type": "code",
   "execution_count": 4,
   "metadata": {},
   "outputs": [],
   "source": [
    "def mat_distances(x, x2):\n",
    "    mat_dist = np.zeros((len(x), len(x2)))\n",
    "    for (i, x_i) in enumerate(x):\n",
    "        for (j, x_j) in enumerate(x2):\n",
    "            mat_dist[i, j] = abs(x_j-x_i)\n",
    "    return mat_dist"
   ]
  },
  {
   "cell_type": "markdown",
   "metadata": {},
   "source": [
    "### Question 3"
   ]
  },
  {
   "cell_type": "code",
   "execution_count": 5,
   "metadata": {},
   "outputs": [
    {
     "name": "stdout",
     "output_type": "stream",
     "text": [
      "[[1.20000000e+01 1.08580490e+01 9.82476904e+00 ... 6.65419193e-04\n",
      "  6.02096185e-04 5.44799157e-04]\n",
      " [1.08580490e+01 1.20000000e+01 1.08580490e+01 ... 7.35401941e-04\n",
      "  6.65419193e-04 6.02096185e-04]\n",
      " [9.82476904e+00 1.08580490e+01 1.20000000e+01 ... 8.12744838e-04\n",
      "  7.35401941e-04 6.65419193e-04]\n",
      " ...\n",
      " [6.65419193e-04 7.35401941e-04 8.12744838e-04 ... 1.20000000e+01\n",
      "  1.08580490e+01 9.82476904e+00]\n",
      " [6.02096185e-04 6.65419193e-04 7.35401941e-04 ... 1.08580490e+01\n",
      "  1.20000000e+01 1.08580490e+01]\n",
      " [5.44799157e-04 6.02096185e-04 6.65419193e-04 ... 9.82476904e+00\n",
      "  1.08580490e+01 1.20000000e+01]]\n"
     ]
    }
   ],
   "source": [
    "dist = mat_distances(discretization, discretization)\n",
    "print(covariance(dist, a, sigma2))"
   ]
  },
  {
   "cell_type": "markdown",
   "metadata": {},
   "source": [
    "### Question 4"
   ]
  },
  {
   "cell_type": "code",
   "execution_count": 6,
   "metadata": {},
   "outputs": [
    {
     "name": "stdout",
     "output_type": "stream",
     "text": [
      "[[1.20000000e+01 1.62402340e+00 2.19787667e-01 2.97450261e-02\n",
      "  4.02555153e-03 5.44799157e-04]\n",
      " [1.62402340e+00 1.20000000e+01 1.62402340e+00 2.19787667e-01\n",
      "  2.97450261e-02 4.02555153e-03]\n",
      " [2.19787667e-01 1.62402340e+00 1.20000000e+01 1.62402340e+00\n",
      "  2.19787667e-01 2.97450261e-02]\n",
      " [2.97450261e-02 2.19787667e-01 1.62402340e+00 1.20000000e+01\n",
      "  1.62402340e+00 2.19787667e-01]\n",
      " [4.02555153e-03 2.97450261e-02 2.19787667e-01 1.62402340e+00\n",
      "  1.20000000e+01 1.62402340e+00]\n",
      " [5.44799157e-04 4.02555153e-03 2.97450261e-02 2.19787667e-01\n",
      "  1.62402340e+00 1.20000000e+01]]\n",
      "[[1.08580490e+01 9.82476904e+00 8.88981865e+00 8.04384055e+00\n",
      "  7.27836792e+00 6.58573963e+00 5.95902365e+00 5.39194757e+00\n",
      "  4.87883592e+00 4.41455329e+00 3.99445300e+00 3.61433054e+00\n",
      "  3.27038152e+00 2.95916357e+00 2.67756192e+00 2.42275822e+00\n",
      "  2.19220229e+00 1.98358666e+00 1.79482343e+00 1.46947714e+00\n",
      "  1.32963790e+00 1.20310612e+00 1.08861544e+00 9.85019983e-01\n",
      "  8.91282939e-01 8.06466153e-01 7.29720752e-01 6.60278641e-01\n",
      "  5.97444820e-01 5.40590429e-01 4.89146448e-01 4.42598009e-01\n",
      "  4.00479240e-01 3.62368601e-01 3.27884669e-01 2.96682318e-01\n",
      "  2.68449262e-01 2.42902937e-01 1.98872105e-01 1.79946922e-01\n",
      "  1.62822708e-01 1.47328079e-01 1.33307958e-01 1.20622029e-01\n",
      "  1.09143325e-01 9.87569646e-02 8.93589969e-02 8.08553640e-02\n",
      "  7.31609588e-02 6.61987730e-02 5.98991269e-02 5.41989713e-02\n",
      "  4.90412573e-02 4.43743646e-02 4.01515855e-02 3.63306569e-02\n",
      "  3.28733378e-02 2.69144126e-02 2.43531676e-02 2.20356573e-02\n",
      "  1.99386873e-02 1.80412703e-02 1.63244165e-02 1.47709428e-02\n",
      "  1.33653018e-02 1.20934251e-02 1.09425836e-02 9.90125908e-03\n",
      "  8.95902970e-03 8.10646530e-03 7.33503313e-03 6.63701244e-03\n",
      "  6.00541720e-03 5.43392619e-03 4.91681975e-03 4.44892249e-03\n",
      "  3.64246966e-03 3.29584284e-03 2.98220193e-03 2.69840789e-03\n",
      "  2.44162043e-03 2.20926952e-03 1.99902973e-03 1.80879690e-03\n",
      "  1.63666712e-03 1.48091765e-03 1.33998970e-03 1.21247282e-03\n",
      "  1.09709078e-03 9.92688787e-04 8.98221959e-04 8.12744838e-04\n",
      "  7.35401941e-04 6.65419193e-04 6.02096185e-04]\n",
      " [1.79482343e+00 1.98358666e+00 2.19220229e+00 2.42275822e+00\n",
      "  2.67756192e+00 2.95916357e+00 3.27038152e+00 3.61433054e+00\n",
      "  3.99445300e+00 4.41455329e+00 4.87883592e+00 5.39194757e+00\n",
      "  5.95902365e+00 6.58573963e+00 7.27836792e+00 8.04384055e+00\n",
      "  8.88981865e+00 9.82476904e+00 1.08580490e+01 1.08580490e+01\n",
      "  9.82476904e+00 8.88981865e+00 8.04384055e+00 7.27836792e+00\n",
      "  6.58573963e+00 5.95902365e+00 5.39194757e+00 4.87883592e+00\n",
      "  4.41455329e+00 3.99445300e+00 3.61433054e+00 3.27038152e+00\n",
      "  2.95916357e+00 2.67756192e+00 2.42275822e+00 2.19220229e+00\n",
      "  1.98358666e+00 1.79482343e+00 1.46947714e+00 1.32963790e+00\n",
      "  1.20310612e+00 1.08861544e+00 9.85019983e-01 8.91282939e-01\n",
      "  8.06466153e-01 7.29720752e-01 6.60278641e-01 5.97444820e-01\n",
      "  5.40590429e-01 4.89146448e-01 4.42598009e-01 4.00479240e-01\n",
      "  3.62368601e-01 3.27884669e-01 2.96682318e-01 2.68449262e-01\n",
      "  2.42902937e-01 1.98872105e-01 1.79946922e-01 1.62822708e-01\n",
      "  1.47328079e-01 1.33307958e-01 1.20622029e-01 1.09143325e-01\n",
      "  9.87569646e-02 8.93589969e-02 8.08553640e-02 7.31609588e-02\n",
      "  6.61987730e-02 5.98991269e-02 5.41989713e-02 4.90412573e-02\n",
      "  4.43743646e-02 4.01515855e-02 3.63306569e-02 3.28733378e-02\n",
      "  2.69144126e-02 2.43531676e-02 2.20356573e-02 1.99386873e-02\n",
      "  1.80412703e-02 1.63244165e-02 1.47709428e-02 1.33653018e-02\n",
      "  1.20934251e-02 1.09425836e-02 9.90125908e-03 8.95902970e-03\n",
      "  8.10646530e-03 7.33503313e-03 6.63701244e-03 6.00541720e-03\n",
      "  5.43392619e-03 4.91681975e-03 4.44892249e-03]\n",
      " [2.42902937e-01 2.68449262e-01 2.96682318e-01 3.27884669e-01\n",
      "  3.62368601e-01 4.00479240e-01 4.42598009e-01 4.89146448e-01\n",
      "  5.40590429e-01 5.97444820e-01 6.60278641e-01 7.29720752e-01\n",
      "  8.06466153e-01 8.91282939e-01 9.85019983e-01 1.08861544e+00\n",
      "  1.20310612e+00 1.32963790e+00 1.46947714e+00 1.79482343e+00\n",
      "  1.98358666e+00 2.19220229e+00 2.42275822e+00 2.67756192e+00\n",
      "  2.95916357e+00 3.27038152e+00 3.61433054e+00 3.99445300e+00\n",
      "  4.41455329e+00 4.87883592e+00 5.39194757e+00 5.95902365e+00\n",
      "  6.58573963e+00 7.27836792e+00 8.04384055e+00 8.88981865e+00\n",
      "  9.82476904e+00 1.08580490e+01 1.08580490e+01 9.82476904e+00\n",
      "  8.88981865e+00 8.04384055e+00 7.27836792e+00 6.58573963e+00\n",
      "  5.95902365e+00 5.39194757e+00 4.87883592e+00 4.41455329e+00\n",
      "  3.99445300e+00 3.61433054e+00 3.27038152e+00 2.95916357e+00\n",
      "  2.67756192e+00 2.42275822e+00 2.19220229e+00 1.98358666e+00\n",
      "  1.79482343e+00 1.46947714e+00 1.32963790e+00 1.20310612e+00\n",
      "  1.08861544e+00 9.85019983e-01 8.91282939e-01 8.06466153e-01\n",
      "  7.29720752e-01 6.60278641e-01 5.97444820e-01 5.40590429e-01\n",
      "  4.89146448e-01 4.42598009e-01 4.00479240e-01 3.62368601e-01\n",
      "  3.27884669e-01 2.96682318e-01 2.68449262e-01 2.42902937e-01\n",
      "  1.98872105e-01 1.79946922e-01 1.62822708e-01 1.47328079e-01\n",
      "  1.33307958e-01 1.20622029e-01 1.09143325e-01 9.87569646e-02\n",
      "  8.93589969e-02 8.08553640e-02 7.31609588e-02 6.61987730e-02\n",
      "  5.98991269e-02 5.41989713e-02 4.90412573e-02 4.43743646e-02\n",
      "  4.01515855e-02 3.63306569e-02 3.28733378e-02]\n",
      " [3.28733378e-02 3.63306569e-02 4.01515855e-02 4.43743646e-02\n",
      "  4.90412573e-02 5.41989713e-02 5.98991269e-02 6.61987730e-02\n",
      "  7.31609588e-02 8.08553640e-02 8.93589969e-02 9.87569646e-02\n",
      "  1.09143325e-01 1.20622029e-01 1.33307958e-01 1.47328079e-01\n",
      "  1.62822708e-01 1.79946922e-01 1.98872105e-01 2.42902937e-01\n",
      "  2.68449262e-01 2.96682318e-01 3.27884669e-01 3.62368601e-01\n",
      "  4.00479240e-01 4.42598009e-01 4.89146448e-01 5.40590429e-01\n",
      "  5.97444820e-01 6.60278641e-01 7.29720752e-01 8.06466153e-01\n",
      "  8.91282939e-01 9.85019983e-01 1.08861544e+00 1.20310612e+00\n",
      "  1.32963790e+00 1.46947714e+00 1.79482343e+00 1.98358666e+00\n",
      "  2.19220229e+00 2.42275822e+00 2.67756192e+00 2.95916357e+00\n",
      "  3.27038152e+00 3.61433054e+00 3.99445300e+00 4.41455329e+00\n",
      "  4.87883592e+00 5.39194757e+00 5.95902365e+00 6.58573963e+00\n",
      "  7.27836792e+00 8.04384055e+00 8.88981865e+00 9.82476904e+00\n",
      "  1.08580490e+01 1.08580490e+01 9.82476904e+00 8.88981865e+00\n",
      "  8.04384055e+00 7.27836792e+00 6.58573963e+00 5.95902365e+00\n",
      "  5.39194757e+00 4.87883592e+00 4.41455329e+00 3.99445300e+00\n",
      "  3.61433054e+00 3.27038152e+00 2.95916357e+00 2.67756192e+00\n",
      "  2.42275822e+00 2.19220229e+00 1.98358666e+00 1.79482343e+00\n",
      "  1.46947714e+00 1.32963790e+00 1.20310612e+00 1.08861544e+00\n",
      "  9.85019983e-01 8.91282939e-01 8.06466153e-01 7.29720752e-01\n",
      "  6.60278641e-01 5.97444820e-01 5.40590429e-01 4.89146448e-01\n",
      "  4.42598009e-01 4.00479240e-01 3.62368601e-01 3.27884669e-01\n",
      "  2.96682318e-01 2.68449262e-01 2.42902937e-01]\n",
      " [4.44892249e-03 4.91681975e-03 5.43392619e-03 6.00541720e-03\n",
      "  6.63701244e-03 7.33503313e-03 8.10646530e-03 8.95902970e-03\n",
      "  9.90125908e-03 1.09425836e-02 1.20934251e-02 1.33653018e-02\n",
      "  1.47709428e-02 1.63244165e-02 1.80412703e-02 1.99386873e-02\n",
      "  2.20356573e-02 2.43531676e-02 2.69144126e-02 3.28733378e-02\n",
      "  3.63306569e-02 4.01515855e-02 4.43743646e-02 4.90412573e-02\n",
      "  5.41989713e-02 5.98991269e-02 6.61987730e-02 7.31609588e-02\n",
      "  8.08553640e-02 8.93589969e-02 9.87569646e-02 1.09143325e-01\n",
      "  1.20622029e-01 1.33307958e-01 1.47328079e-01 1.62822708e-01\n",
      "  1.79946922e-01 1.98872105e-01 2.42902937e-01 2.68449262e-01\n",
      "  2.96682318e-01 3.27884669e-01 3.62368601e-01 4.00479240e-01\n",
      "  4.42598009e-01 4.89146448e-01 5.40590429e-01 5.97444820e-01\n",
      "  6.60278641e-01 7.29720752e-01 8.06466153e-01 8.91282939e-01\n",
      "  9.85019983e-01 1.08861544e+00 1.20310612e+00 1.32963790e+00\n",
      "  1.46947714e+00 1.79482343e+00 1.98358666e+00 2.19220229e+00\n",
      "  2.42275822e+00 2.67756192e+00 2.95916357e+00 3.27038152e+00\n",
      "  3.61433054e+00 3.99445300e+00 4.41455329e+00 4.87883592e+00\n",
      "  5.39194757e+00 5.95902365e+00 6.58573963e+00 7.27836792e+00\n",
      "  8.04384055e+00 8.88981865e+00 9.82476904e+00 1.08580490e+01\n",
      "  1.08580490e+01 9.82476904e+00 8.88981865e+00 8.04384055e+00\n",
      "  7.27836792e+00 6.58573963e+00 5.95902365e+00 5.39194757e+00\n",
      "  4.87883592e+00 4.41455329e+00 3.99445300e+00 3.61433054e+00\n",
      "  3.27038152e+00 2.95916357e+00 2.67756192e+00 2.42275822e+00\n",
      "  2.19220229e+00 1.98358666e+00 1.79482343e+00]\n",
      " [6.02096185e-04 6.65419193e-04 7.35401941e-04 8.12744838e-04\n",
      "  8.98221959e-04 9.92688787e-04 1.09709078e-03 1.21247282e-03\n",
      "  1.33998970e-03 1.48091765e-03 1.63666712e-03 1.80879690e-03\n",
      "  1.99902973e-03 2.20926952e-03 2.44162043e-03 2.69840789e-03\n",
      "  2.98220193e-03 3.29584284e-03 3.64246966e-03 4.44892249e-03\n",
      "  4.91681975e-03 5.43392619e-03 6.00541720e-03 6.63701244e-03\n",
      "  7.33503313e-03 8.10646530e-03 8.95902970e-03 9.90125908e-03\n",
      "  1.09425836e-02 1.20934251e-02 1.33653018e-02 1.47709428e-02\n",
      "  1.63244165e-02 1.80412703e-02 1.99386873e-02 2.20356573e-02\n",
      "  2.43531676e-02 2.69144126e-02 3.28733378e-02 3.63306569e-02\n",
      "  4.01515855e-02 4.43743646e-02 4.90412573e-02 5.41989713e-02\n",
      "  5.98991269e-02 6.61987730e-02 7.31609588e-02 8.08553640e-02\n",
      "  8.93589969e-02 9.87569646e-02 1.09143325e-01 1.20622029e-01\n",
      "  1.33307958e-01 1.47328079e-01 1.62822708e-01 1.79946922e-01\n",
      "  1.98872105e-01 2.42902937e-01 2.68449262e-01 2.96682318e-01\n",
      "  3.27884669e-01 3.62368601e-01 4.00479240e-01 4.42598009e-01\n",
      "  4.89146448e-01 5.40590429e-01 5.97444820e-01 6.60278641e-01\n",
      "  7.29720752e-01 8.06466153e-01 8.91282939e-01 9.85019983e-01\n",
      "  1.08861544e+00 1.20310612e+00 1.32963790e+00 1.46947714e+00\n",
      "  1.79482343e+00 1.98358666e+00 2.19220229e+00 2.42275822e+00\n",
      "  2.67756192e+00 2.95916357e+00 3.27038152e+00 3.61433054e+00\n",
      "  3.99445300e+00 4.41455329e+00 4.87883592e+00 5.39194757e+00\n",
      "  5.95902365e+00 6.58573963e+00 7.27836792e+00 8.04384055e+00\n",
      "  8.88981865e+00 9.82476904e+00 1.08580490e+01]]\n",
      "[[1.20000000e+01 1.08580490e+01 9.82476904e+00 ... 8.12744838e-04\n",
      "  7.35401941e-04 6.65419193e-04]\n",
      " [1.08580490e+01 1.20000000e+01 1.08580490e+01 ... 8.98221959e-04\n",
      "  8.12744838e-04 7.35401941e-04]\n",
      " [9.82476904e+00 1.08580490e+01 1.20000000e+01 ... 9.92688787e-04\n",
      "  8.98221959e-04 8.12744838e-04]\n",
      " ...\n",
      " [8.12744838e-04 8.98221959e-04 9.92688787e-04 ... 1.20000000e+01\n",
      "  1.08580490e+01 9.82476904e+00]\n",
      " [7.35401941e-04 8.12744838e-04 8.98221959e-04 ... 1.08580490e+01\n",
      "  1.20000000e+01 1.08580490e+01]\n",
      " [6.65419193e-04 7.35401941e-04 8.12744838e-04 ... 9.82476904e+00\n",
      "  1.08580490e+01 1.20000000e+01]]\n"
     ]
    }
   ],
   "source": [
    "# Calcul de la matrice de covariance entre les observations \n",
    "\n",
    "dist_obs = mat_distances(observation, observation)\n",
    "C_obs = covariance(dist_obs, a, sigma2)\n",
    "print(C_obs)\n",
    "\n",
    "# Calcul de la matrice de covariance (et de la transposée) entre les observations et les inconnues\n",
    "\n",
    "dist_obs_un = mat_distances(observation, unknown)\n",
    "C_obs_un = covariance(dist_obs_un, a, sigma2)\n",
    "print(C_obs_un)\n",
    "\n",
    "dist_un_obs = mat_distances(unknown, observation)\n",
    "C_un_obs = covariance(dist_un_obs, a, sigma2)\n",
    "\n",
    "# Calcul de la matrice de covariance entre les inconnues\n",
    "\n",
    "dist_un = mat_distances(unknown, unknown)\n",
    "C_un = covariance(dist_un, a, sigma2)\n",
    "print(C_un)\n",
    "\n"
   ]
  },
  {
   "cell_type": "markdown",
   "metadata": {},
   "source": [
    "### Question 5"
   ]
  },
  {
   "cell_type": "markdown",
   "metadata": {},
   "source": [
    "On calcule l'espérance conditionnelle des composantes non observées connaissant les observations. Pour cela on utilise les notions introduites dans la partie théorique."
   ]
  },
  {
   "cell_type": "code",
   "execution_count": 7,
   "metadata": {},
   "outputs": [
    {
     "name": "stdout",
     "output_type": "stream",
     "text": [
      "[ -0.46688335  -0.88839774  -1.26876184  -1.61178245  -1.92089264\n",
      "  -2.19918609  -2.44944805  -2.67418323  -2.87564085  -3.05583718\n",
      "  -3.21657567  -3.35946505  -3.4859354   -3.59725249  -3.69453041\n",
      "  -3.77874275  -3.85073233  -3.91121966  -3.96081011  -4.31432093\n",
      "  -4.62177936  -4.92545243  -5.2283794   -5.53359206  -5.8441451\n",
      "  -6.16314662  -6.49378931  -6.83938234  -7.20338453  -7.58943893\n",
      "  -8.00140931  -8.4434188   -8.91989118  -9.43559515  -9.99569205\n",
      " -10.60578751 -11.27198758 -12.00095981 -11.91810571 -11.10545015\n",
      " -10.35389999  -9.65593346  -9.00456508  -8.39327573  -7.81594742\n",
      "  -7.26680206  -6.74034362  -6.23130312  -5.73458592  -5.2452207\n",
      "  -4.75830973  -4.26897984  -3.77233366  -3.26340058  -2.73708703\n",
      "  -2.18812549  -1.61102176  -1.43702815  -1.83839689  -2.20812324\n",
      "  -2.54990754  -2.8671705   -3.16308739  -3.44061983  -3.70254547\n",
      "  -3.95148576  -4.18993216  -4.42027113  -4.64480797  -4.86578994\n",
      "  -5.08542869  -5.30592243  -5.52947795  -5.75833267  -5.99477703\n",
      "  -6.24117745  -6.21355942  -5.93926455  -5.67437016  -5.41622509\n",
      "  -5.16224574  -4.9098902   -4.65663281  -4.39993889  -4.13723936\n",
      "  -3.86590502  -3.58322028  -3.28635594  -2.97234087  -2.6380323\n",
      "  -2.28008437  -1.89491461  -1.47866811  -1.02717893  -0.53592843]\n"
     ]
    }
   ],
   "source": [
    "def CSz(C1, C2, C12, C21):\n",
    "    return C1 - np.dot(np.dot(C12, alg.inv(C2)), C21)\n",
    "\n",
    "def psi(z2, C12, C2,  esp_z, esp_z2):\n",
    "    z2 = np.array(z2).reshape(len(z2), 1)\n",
    "    res = esp_z + np.dot(np.dot(C12, alg.inv(C2)), (np.array(z2) - np.array(esp_z2)))\n",
    "    return res[:, 0]\n",
    "\n",
    "esp_un = mu * np.ones((len(unknown), 1))\n",
    "esp_obs = mu * np.ones((len(observation), 1))\n",
    "esp = psi(depth, C_un_obs, C_obs, esp_un, esp_obs)\n",
    "\n",
    "print(esp)\n"
   ]
  },
  {
   "cell_type": "markdown",
   "metadata": {},
   "source": [
    "On la représente ensuite avec les données."
   ]
  },
  {
   "cell_type": "code",
   "execution_count": 8,
   "metadata": {},
   "outputs": [
    {
     "data": {
      "image/png": "[encoded data removed]",
      "text/plain": [
       "<Figure size 432x288 with 1 Axes>"
      ]
     },
     "metadata": {
      "needs_background": "light"
     },
     "output_type": "display_data"
    }
   ],
   "source": [
    "plt.plot(observation, depth, label = \"observation\")\n",
    "plt.plot(unknown, esp, label = \"espérance conditionnelle\")\n",
    "plt.legend()\n",
    "plt.show()"
   ]
  },
  {
   "cell_type": "markdown",
   "metadata": {},
   "source": [
    "### Question 6"
   ]
  },
  {
   "cell_type": "code",
   "execution_count": 9,
   "metadata": {},
   "outputs": [
    {
     "data": {
      "image/png": "[encoded data removed]",
      "text/plain": [
       "<Figure size 432x288 with 1 Axes>"
      ]
     },
     "metadata": {
      "needs_background": "light"
     },
     "output_type": "display_data"
    }
   ],
   "source": [
    "Var = CSz(C_un, C_obs, C_un_obs, C_obs_un)\n",
    "diag = [Var[i, i] for i in range(len(unknown))]\n",
    "plt.plot(unknown, diag, label = \"Variance\")\n",
    "plt.show()\n",
    "#PLus on se rapproche des points observés, plus la variance est faible"
   ]
  },
  {
   "cell_type": "markdown",
   "metadata": {},
   "source": [
    "On constate que plus on est proche des points d'observation, plus la variance est faible. Ce constat semble cohérent, puisqu'il illustre l'intérêt du conditionnement. "
   ]
  },
  {
   "cell_type": "markdown",
   "metadata": {},
   "source": [
    "### Question 7"
   ]
  },
  {
   "cell_type": "markdown",
   "metadata": {},
   "source": [
    "On commence par simuler un vecteur gaussion centré réduit avec la méthode de Box Muller, et ce de la même taille que la discrétisation. Ensuite, on utilise la question 4 de la partie théorique pour nous founir la simulation. Pour cela, on utilise la factorisation de Choelsky (on choisit de ne pas l'implémenter et d'en utiliser une provenant du module scipy). "
   ]
  },
  {
   "cell_type": "code",
   "execution_count": 10,
   "metadata": {},
   "outputs": [
    {
     "data": {
      "image/png": "[encoded data removed]",
      "text/plain": [
       "<Figure size 432x288 with 1 Axes>"
      ]
     },
     "metadata": {
      "needs_background": "light"
     },
     "output_type": "display_data"
    }
   ],
   "source": [
    "dist_disc = mat_distances(discretization, discretization)\n",
    "C_disc = covariance(dist_disc, a, sigma2)\n",
    "\n",
    "def simulation():\n",
    "    simul = []\n",
    "    M = mu * np.ones((N,))\n",
    "    i = 0\n",
    "    a = False \n",
    "    if len(discretization) % 2 == 1:\n",
    "        a = True \n",
    "    while i < len(discretization):\n",
    "        u = random.rand()\n",
    "        v = random.rand()\n",
    "        x = math.sqrt(-2 * math.log(u)) * math.cos(2 * math.pi  * v)\n",
    "        y = math.sqrt(-2 * math.log(u)) * math.sin(2 * math.pi  * v)\n",
    "        simul.append(x)\n",
    "        simul.append(y)\n",
    "        i += 2\n",
    "    if a == True:\n",
    "        simul.pop()\n",
    "    L = np.transpose(cholesky(C_disc))\n",
    "    simul = M + np.dot(L, np.transpose(simul))\n",
    "    return simul\n",
    "\n",
    "simul = simulation()\n",
    "plt.plot(discretization, simul, label = \"simulation\")\n",
    "plt.plot(observation, depth, label = \"observations\")\n",
    "plt.plot(unknown, esp, label = \"espérance conditionnelle\")\n",
    "plt.legend()\n",
    "plt.show()"
   ]
  },
  {
   "cell_type": "markdown",
   "metadata": {},
   "source": [
    "Une seule simulation n'est peut être pas suffisante pour obtenir un estimateur satisfaisant. On s'approcherait mieux en en effectuant un grand nombre, ce qui permettrait de \"noyer\" les valeurs incohérentes."
   ]
  },
  {
   "cell_type": "markdown",
   "metadata": {},
   "source": [
    "### Question 8"
   ]
  },
  {
   "cell_type": "code",
   "execution_count": 11,
   "metadata": {},
   "outputs": [],
   "source": [
    "def long_cable(prof, delta):\n",
    "    L = 0\n",
    "    for i in range(1, len(prof)):\n",
    "        L += math.sqrt(delta**2 + (prof[i] - prof[i-1])**2)\n",
    "    return L\n"
   ]
  },
  {
   "cell_type": "markdown",
   "metadata": {},
   "source": [
    "### Question 9"
   ]
  },
  {
   "cell_type": "markdown",
   "metadata": {},
   "source": [
    "On implémente la fonction, qui à partir de K simulations fournit l'estimateur, c'est-à-dire la moyenne des longueurs obtenues pour chaque simulation."
   ]
  },
  {
   "cell_type": "code",
   "execution_count": 12,
   "metadata": {},
   "outputs": [
    {
     "name": "stdout",
     "output_type": "stream",
     "text": [
      "521.4616011902516 471.390923999467\n"
     ]
    }
   ],
   "source": [
    "def long_est(K):\n",
    "    i = 0\n",
    "    simulations = []\n",
    "    longueurs = []\n",
    "    L = 0\n",
    "    while i < K:\n",
    "        simulations.append(simulation())\n",
    "        longueurs.append(long_cable(simulations[i], Delta))\n",
    "        L += longueurs[i]\n",
    "        i += 1\n",
    "    return L/K\n",
    "\n",
    "print(long_est(100), long_cable(esp, Delta))"
   ]
  },
  {
   "cell_type": "markdown",
   "metadata": {},
   "source": [
    "On obtient deux valeurs assez différentes. Il y a peut-être une errreur sur le calcul de l'espérance conditionnelle car la valeur de 521 environ semble plus probable."
   ]
  },
  {
   "cell_type": "markdown",
   "metadata": {},
   "source": [
    "### Question 10"
   ]
  },
  {
   "cell_type": "code",
   "execution_count": 16,
   "metadata": {},
   "outputs": [
    {
     "data": {
      "image/png": "[encoded data removed]",
      "text/plain": [
       "<Figure size 432x288 with 1 Axes>"
      ]
     },
     "metadata": {
      "needs_background": "light"
     },
     "output_type": "display_data"
    }
   ],
   "source": [
    "absc = np.arange(1, 100, 1)\n",
    "long = [long_est(i) for i in absc]\n",
    "plt.plot(absc, long)\n",
    "plt.show()"
   ]
  },
  {
   "cell_type": "markdown",
   "metadata": {},
   "source": [
    "La suite $M_n$ tend, quand le nombre de simulations devient très grand, vers une valeur limite (ce qui est visible quand on augmente le nombre de simulations par la suite) que l'on pourrait interpréter comme l'estimateur limite. Ici, on a représenté $M_n$ jusqu'à 100 simulations."
   ]
  },
  {
   "cell_type": "markdown",
   "metadata": {},
   "source": [
    "### Question 11"
   ]
  },
  {
   "cell_type": "code",
   "execution_count": 17,
   "metadata": {},
   "outputs": [
    {
     "data": {
      "image/png": "[encoded data removed]",
      "text/plain": [
       "<Figure size 432x288 with 1 Axes>"
      ]
     },
     "metadata": {
      "needs_background": "light"
     },
     "output_type": "display_data"
    }
   ],
   "source": [
    "plt.hist(long)\n",
    "plt.show()"
   ]
  },
  {
   "cell_type": "markdown",
   "metadata": {},
   "source": [
    "### Question 12"
   ]
  },
  {
   "cell_type": "markdown",
   "metadata": {},
   "source": [
    "On exploite ici les résultats démontrés dans la partie du cours consacrée à la méthode de Monte-Carlo."
   ]
  },
  {
   "cell_type": "code",
   "execution_count": 18,
   "metadata": {},
   "outputs": [
    {
     "name": "stdout",
     "output_type": "stream",
     "text": [
      "5.7672808383184675\n"
     ]
    }
   ],
   "source": [
    "def var_est(K):\n",
    "    sig2 = 0\n",
    "    i = 0\n",
    "    simulations = []\n",
    "    longueurs = []\n",
    "    while i < K:\n",
    "        simulations.append(simulation())\n",
    "        longueurs.append(long_cable(simulations[i], Delta))\n",
    "        i += 1\n",
    "    for j in range(1, K):\n",
    "        sig2 += (longueurs[j] - long_est(K)) ** 2\n",
    "    return math.sqrt(sig2/K)\n",
    "        \n",
    "print(var_est(100) * 1.96)"
   ]
  },
  {
   "cell_type": "markdown",
   "metadata": {},
   "source": [
    "### Question 14"
   ]
  },
  {
   "cell_type": "code",
   "execution_count": 19,
   "metadata": {},
   "outputs": [
    {
     "name": "stdout",
     "output_type": "stream",
     "text": [
      "521.486551047771 471.390923999467\n"
     ]
    }
   ],
   "source": [
    "print(long_est(1000), long_cable(esp, Delta))"
   ]
  },
  {
   "cell_type": "code",
   "execution_count": 20,
   "metadata": {},
   "outputs": [
    {
     "name": "stdout",
     "output_type": "stream",
     "text": [
      "521.5313025802909 471.390923999467\n"
     ]
    }
   ],
   "source": [
    "print(long_est(10000), long_cable(esp, Delta))"
   ]
  },
  {
   "cell_type": "code",
   "execution_count": 21,
   "metadata": {},
   "outputs": [
    {
     "name": "stdout",
     "output_type": "stream",
     "text": [
      "521.540260810631 471.390923999467\n"
     ]
    }
   ],
   "source": [
    "print(long_est(100000), long_cable(esp, Delta))"
   ]
  },
  {
   "cell_type": "code",
   "execution_count": 22,
   "metadata": {},
   "outputs": [
    {
     "data": {
      "image/png": "[encoded data removed]",
      "text/plain": [
       "<Figure size 432x288 with 1 Axes>"
      ]
     },
     "metadata": {
      "needs_background": "light"
     },
     "output_type": "display_data"
    }
   ],
   "source": [
    "absc = np.arange(1, 1000, 1)\n",
    "long = [long_est(i) for i in absc]\n",
    "plt.plot(absc, long)\n",
    "plt.show()"
   ]
  },
  {
   "cell_type": "code",
   "execution_count": null,
   "metadata": {},
   "outputs": [],
   "source": [
    "absc = np.arange(1, 10000, 1)\n",
    "long = [long_est(i) for i in absc]\n",
    "plt.plot(absc, long)\n",
    "plt.show()"
   ]
  },
  {
   "cell_type": "code",
   "execution_count": null,
   "metadata": {},
   "outputs": [],
   "source": []
  }
 ],
 "metadata": {
  "kernelspec": {
   "display_name": "Python 3",
   "language": "python",
   "name": "python3"
  },
  "language_info": {
   "codemirror_mode": {
    "name": "ipython",
    "version": 3
   },
   "file_extension": ".py",
   "mimetype": "text/x-python",
   "name": "python",
   "nbconvert_exporter": "python",
   "pygments_lexer": "ipython3",
   "version": "3.7.4"
  }
 },
 "nbformat": 4,
 "nbformat_minor": 2
}
