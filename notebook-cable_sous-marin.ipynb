{
 "cells": [
  {
   "cell_type": "markdown",
   "metadata": {},
   "source": [
    "# Projet numérique Câble sous-marin\n",
    "## Juliette Montantème et Alex Morais Penso"
   ]
  },
  {
   "cell_type": "markdown",
   "metadata": {},
   "source": [
    "## Questions théoriques"
   ]
  },
  {
   "cell_type": "markdown",
   "metadata": {},
   "source": [
    "### Question 1\n",
    "\n",
    "La méthode de Monte Carlo, permet, à l'aide de la loi forte des grands nombres, d'estimer l'espérance conditionnelle par la moyenne empirique de simulations conditionnelles.\n"
   ]
  },
  {
   "cell_type": "markdown",
   "metadata": {},
   "source": [
    "### Question 2 \n",
    "\n",
    "On considère le vecteur $ Z = \\begin{pmatrix} Z(x_0)\\\\Z(x_1)\\\\...\\\\Z(x_N) \\end{pmatrix}$ correspondant aux points de discrétisation et le vecteur $ Z' = \\begin{pmatrix} Z(x_{j_1})\\\\...\\\\Z(x_{j_n}) \\end{pmatrix}$ correspondant aux  points d'observations. Si certains des indices des composantes observées sont dans ceux de discrétisation, on ote les points correspondants pour obtenir un nouveau vecteur Z. \n",
    "On cherche ainsi la loi de la variable aléatoire $Z$ | $Z'=z'$ où $z' = \\begin{pmatrix} z(x_{j_1})& z(x_{j_2})&...&z(x_{j_n})\\end{pmatrix}$ ."
   ]
  },
  {
   "cell_type": "markdown",
   "metadata": {},
   "source": [
    "Or, en reprenant les calculs et preuves réalisés dans la section *Vecteur gaussiens à densité* du chapitre **Probabilités IV**, on peut affirmer que cette variable suit une loi gaussienne. "
   ]
  },
  {
   "cell_type": "markdown",
   "metadata": {},
   "source": [
    "Introduisons certaines quantités nécessaires pour l'expression de son espérance et de sa variance.\n",
    "\n",
    "Soient $C_Z$ et $C_{Z'}$ les matrices de covariance de respectivement les vecteurs Z et Z'. \n",
    "Soit $C_{ZZ'}$ et $C_{Z'Z}$ (la première étant la transposée de la seconde) les matrices de covariance entre les variables $Z$ et $Z'$.\n",
    "\n",
    "\n",
    "Soit $CS_z$ la matrice définie par $CS_z = C_Z - C_{ZZ'} C_{Z'}^{-1} C_{Z'Z}$.\n",
    "\n",
    "On considèrera indifféremment $\\mu$ et le vecteur ${\\mu} = \\begin{pmatrix} \\mu & \\mu &...&\\mu \\end{pmatrix}$ qui désigne l'espérance du vecteur $Z$.\n",
    "\n",
    "Ainsi on introduit la fonction $\\psi$ par $\\psi(z') = \\mu +C_{ZZ'} C_{Z'}^{-1} (z' - \\mu)$.\n"
   ]
  },
  {
   "cell_type": "markdown",
   "metadata": {},
   "source": [
    "On a donc \n",
    "$\\mathbb{E} (Z | Z'=z') = \\psi(z') $\n",
    "\n",
    "\n",
    "et\n",
    "\n",
    "\n",
    "$ \\mathbb{V}(Z | Z'=z') = CS_Z$"
   ]
  },
  {
   "cell_type": "markdown",
   "metadata": {},
   "source": [
    "### Question 3"
   ]
  },
  {
   "cell_type": "markdown",
   "metadata": {},
   "source": [
    "Soit $Y$ un tel vecteur gaussien. Son espérance est le vecteur nul, et étant donné l'indépendance des composantes et leur variance égale à 1, sa matrice de covariance n'est autre que la matrice identité.\n",
    "\n",
    "$\\mathbb{E}(Y) = \\begin{pmatrix} 0 & 0 &...& 0 \\end{pmatrix}$ \n",
    "et $ \\mathbb{V}(Y) = Id_p$"
   ]
  },
  {
   "cell_type": "markdown",
   "metadata": {},
   "source": [
    "Soit $ Z = m + RY$.\n",
    "\n",
    "La variable $Z$ est une gaussienne donc les paramètres sont calculés ci-après. \n",
    "\n",
    "$\\mathbb{E}(Z) = m$ par linéarité de l'espérance.\n",
    "\n",
    "$\\begin{align*} \\mathbb{V}(Z) & = \\mathbb{E}( (Z - \\mathbb{E}(Z)) (Z- \\mathbb{E}(Z))^t )\\\\\n",
    "                              & = \\mathbb{E}( RY R^t Y^t)\\\\\n",
    "                              & = R \\mathbb{E}(Y Y^t) R^t\\\\\n",
    "                              & = R \\mathbb{V}(Y) R^t\\\\\n",
    "                              & = R R^t\\\\\n",
    "                              \\end{align*}$\n",
    "                       \n",
    "                             \n",
    "                              "
   ]
  },
  {
   "cell_type": "markdown",
   "metadata": {},
   "source": [
    "### Question 4"
   ]
  },
  {
   "cell_type": "markdown",
   "metadata": {},
   "source": [
    "On cherche à simuler un vecteur gaussien dont le vecteur espérance serait ${\\mu} = \\begin{pmatrix} \\mu & \\mu &...&\\mu \\end{pmatrix}$  et la covariance une matrice $C$, définie positive. Or, on peut montrer que $C$ peut se factoriser et s'écrire de la forme $C = R R^t$. \n"
   ]
  },
  {
   "cell_type": "markdown",
   "metadata": {},
   "source": [
    "Pour simuler ce vecteur gaussien on pourrait donc appliquer le résultat obtenu à la question précédente en choisissant $m = \\mu$ et $R$ selon la décomposition. En partant de simulation de variables gaussiennes centrées réduites indépendantes, on simule un vecteur gaussien puis on lui fait subir une transformation affine pour qu'il devienne un vecteur gaussien aux caractéristiques souhaitées. "
   ]
  },
  {
   "cell_type": "markdown",
   "metadata": {},
   "source": [
    "## Implémentation"
   ]
  },
  {
   "cell_type": "markdown",
   "metadata": {},
   "source": [
    "Commençons par introduire les données du problème.\n"
   ]
  },
  {
   "cell_type": "code",
   "execution_count": null,
   "metadata": {},
   "outputs": [],
   "source": [
    "import numpy as np\n",
    "import matplotlib.pyplot as plt\n",
    "import math\n",
    "import numpy.linalg as alg"
   ]
  },
  {
   "cell_type": "code",
   "execution_count": null,
   "metadata": {},
   "outputs": [],
   "source": [
    "#Chargement de dépendances\n",
    "import numpy as np\n",
    "import matplotlib.pyplot as plt\n",
    "import math\n",
    "import numpy.linalg as alg\n",
    "\n",
    "#Discrétisation\n",
    "A=0\n",
    "B=500\n",
    "N=101 #Nombre de points de discrétisation \n",
    "Delta = (B-A)/(N-1)\n",
    "discretization_indexes = np.arange(N) \n",
    "discretization = discretization_indexes*Delta \n",
    "\n",
    "#Paramètres du modèle\n",
    "mu=-5\n",
    "a = 50 \n",
    "sigma2 = 12\n",
    "\n",
    "#Données\n",
    "observation_indexes = [0,20,40,60,80,100] \n",
    "depth = np.array([0,-4,-12.8,-1,-6.5,0])\n",
    "observation = [discretization[i] for i in observation_indexes]\n",
    "#Indices des composantes correspondant aux observations et aux componsantes non observées\n",
    "unknown_indexes=list(set(discretization_indexes)-set(observation_indexes))"
   ]
  },
  {
   "cell_type": "code",
   "execution_count": null,
   "metadata": {},
   "outputs": [],
   "source": []
  }
 ],
 "metadata": {
  "kernelspec": {
   "display_name": "Python 3",
   "language": "python",
   "name": "python3"
  }
 },
 "nbformat": 4,
 "nbformat_minor": 2
}
